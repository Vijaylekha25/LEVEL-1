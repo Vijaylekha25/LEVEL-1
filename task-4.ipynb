{
 "cells": [
  {
   "cell_type": "code",
   "execution_count": 1,
   "metadata": {},
   "outputs": [],
   "source": [
    "import pandas as pd \n",
    "import numpy as np\n",
    "import matplotlib.pyplot as plt\n",
    "ur1=\"https://drive.google.com/file/d/1dKZxapT3xLzOTOpy1LCyqctL8YEvzp4Y/view?usp=drive_link\"\n",
    "ur1='https://drive.google.com/uc?id=' + ur1.split('/')[-2]\n",
    "df=pd.read_csv(ur1)"
   ]
  },
  {
   "cell_type": "markdown",
   "metadata": {},
   "source": [
    "##### Task 4: Online Delivery"
   ]
  },
  {
   "cell_type": "markdown",
   "metadata": {},
   "source": [
    "##### Determine the percentage of restaurants that offer online delivery."
   ]
  },
  {
   "cell_type": "code",
   "execution_count": 2,
   "metadata": {},
   "outputs": [
    {
     "name": "stdout",
     "output_type": "stream",
     "text": [
      "Index(['Restaurant ID', 'Restaurant Name', 'Country Code', 'City', 'Address',\n",
      "       'Locality', 'Locality Verbose', 'Longitude', 'Latitude', 'Cuisines',\n",
      "       'Average Cost for two', 'Currency', 'Has Table booking',\n",
      "       'Has Online delivery', 'Is delivering now', 'Switch to order menu',\n",
      "       'Price range', 'Aggregate rating', 'Rating color', 'Rating text',\n",
      "       'Votes'],\n",
      "      dtype='object')\n"
     ]
    }
   ],
   "source": [
    "print(df.columns)"
   ]
  },
  {
   "cell_type": "code",
   "execution_count": 3,
   "metadata": {},
   "outputs": [
    {
     "name": "stdout",
     "output_type": "stream",
     "text": [
      "Total Resturant with Online Delivery : 2451\n"
     ]
    }
   ],
   "source": [
    "online_delivery = df['Has Online delivery'].value_counts().get('Yes',0)\n",
    "print(\"Total Resturant with Online Delivery :\",online_delivery)"
   ]
  },
  {
   "cell_type": "code",
   "execution_count": 4,
   "metadata": {},
   "outputs": [
    {
     "name": "stdout",
     "output_type": "stream",
     "text": [
      "Resturant with Online Delivery : 7100\n"
     ]
    }
   ],
   "source": [
    "no = df['Has Online delivery'].value_counts().get('No',0)\n",
    "print(\"Resturant with Online Delivery :\",no)"
   ]
  },
  {
   "cell_type": "code",
   "execution_count": 7,
   "metadata": {},
   "outputs": [
    {
     "name": "stdout",
     "output_type": "stream",
     "text": [
      "Total % of Online Delivery: 25.66\n"
     ]
    }
   ],
   "source": [
    "\n",
    "row_counts = len(df)\n",
    "\n",
    "percentage_of_online_delivery = round((online_delivery / row_counts) * 100, 2)\n",
    "print(\"Total % of Online Delivery:\", percentage_of_online_delivery)"
   ]
  },
  {
   "cell_type": "code",
   "execution_count": 9,
   "metadata": {},
   "outputs": [
    {
     "name": "stdout",
     "output_type": "stream",
     "text": [
      "Total % where Online Delivery is not present: 74.34\n"
     ]
    }
   ],
   "source": [
    "\n",
    "\n",
    "percentage_of_NO_online_delivery = round((no/row_counts) * 100, 2)\n",
    "print(\"Total % where Online Delivery is not present:\", percentage_of_NO_online_delivery)"
   ]
  },
  {
   "cell_type": "code",
   "execution_count": null,
   "metadata": {},
   "outputs": [],
   "source": []
  },
  {
   "cell_type": "markdown",
   "metadata": {},
   "source": [
    "#### Compare the average ratings of restaurants with and without online delivery."
   ]
  },
  {
   "cell_type": "code",
   "execution_count": 10,
   "metadata": {},
   "outputs": [
    {
     "name": "stdout",
     "output_type": "stream",
     "text": [
      "Average Rating with online Delivery : 3.25\n"
     ]
    }
   ],
   "source": [
    "Avg_rating_yes = round(df[df[\"Has Online delivery\"]=='Yes']['Aggregate rating'].mean(),2)\n",
    "print('Average Rating with online Delivery :',Avg_rating_yes)\n",
    "                       "
   ]
  },
  {
   "cell_type": "code",
   "execution_count": 11,
   "metadata": {},
   "outputs": [
    {
     "name": "stdout",
     "output_type": "stream",
     "text": [
      "Average Rating with online Delivery : 2.47\n"
     ]
    }
   ],
   "source": [
    "Avg_rating_No = round(df[df[\"Has Online delivery\"]=='No']['Aggregate rating'].mean(),2)\n",
    "print('Average Rating with online Delivery :',Avg_rating_No)\n",
    "                       "
   ]
  },
  {
   "cell_type": "code",
   "execution_count": 13,
   "metadata": {},
   "outputs": [
    {
     "data": {
      "image/png": "[encoded data removed]",
      "text/plain": [
       "<Figure size 640x480 with 1 Axes>"
      ]
     },
     "metadata": {},
     "output_type": "display_data"
    }
   ],
   "source": [
    "labels = ['Yes', 'No']\n",
    "average_rating = [Avg_rating_yes, Avg_rating_No]\n",
    "colors = ['green', 'yellow']  \n",
    "\n",
    "plt.barh(labels, average_rating, color=colors)  \n",
    "plt.ylabel('Online Delivery')  \n",
    "plt.xlabel('Average Rating')  \n",
    "plt.title('Comparison of Average Rating of Online Delivery')\n",
    "plt.show()"
   ]
  }
 ],
 "metadata": {
  "kernelspec": {
   "display_name": "Python 3",
   "language": "python",
   "name": "python3"
  },
  "language_info": {
   "codemirror_mode": {
    "name": "ipython",
    "version": 3
   },
   "file_extension": ".py",
   "mimetype": "text/x-python",
   "name": "python",
   "nbconvert_exporter": "python",
   "pygments_lexer": "ipython3",
   "version": "3.12.6"
  }
 },
 "nbformat": 4,
 "nbformat_minor": 2
}
